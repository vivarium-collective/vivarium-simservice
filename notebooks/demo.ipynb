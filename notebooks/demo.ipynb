{
 "cells": [
  {
   "cell_type": "code",
   "execution_count": null,
   "id": "b1b33730-9d0c-4654-991b-b98f957e6fa9",
   "metadata": {},
   "outputs": [],
   "source": [
    "import "
   ]
  },
  {
   "cell_type": "code",
   "execution_count": null,
   "id": "d06917b5-929c-402d-94fc-9a6c976ee4fa",
   "metadata": {},
   "outputs": [],
   "source": []
  },
  {
   "cell_type": "code",
   "execution_count": 1,
   "id": "initial_id",
   "metadata": {
    "ExecuteTime": {
     "end_time": "2024-08-11T21:11:31.972618Z",
     "start_time": "2024-08-11T21:11:31.937344Z"
    }
   },
   "outputs": [
    {
     "ename": "ModuleNotFoundError",
     "evalue": "No module named 'nose'",
     "output_type": "error",
     "traceback": [
      "\u001b[0;31m---------------------------------------------------------------------------\u001b[0m",
      "\u001b[0;31mModuleNotFoundError\u001b[0m                       Traceback (most recent call last)",
      "Cell \u001b[0;32mIn[1], line 3\u001b[0m\n\u001b[1;32m      1\u001b[0m \u001b[38;5;66;03m# from tests.ExplicitCell.cc3d_simservice.CC3DProcess import SERVICE_NAME as cc3d_service_name  # DO NOT REMOVE\u001b[39;00m\n\u001b[1;32m      2\u001b[0m \u001b[38;5;66;03m# from tests.ExplicitCell.tf_simservice.TissueForgeProcess import SERVICE_NAME as tf_service_name  # DO NOT REMOVE\u001b[39;00m\n\u001b[0;32m----> 3\u001b[0m \u001b[38;5;28;01mfrom\u001b[39;00m \u001b[38;5;21;01mtests\u001b[39;00m\u001b[38;5;21;01m.\u001b[39;00m\u001b[38;5;21;01mExplicitCell\u001b[39;00m\u001b[38;5;21;01m.\u001b[39;00m\u001b[38;5;21;01mexplicit_cell\u001b[39;00m \u001b[38;5;28;01mimport\u001b[39;00m get_one_cell_two_direction_config\n",
      "File \u001b[0;32m~/.pyenv/versions/3.11.3/lib/python3.11/site-packages/tests/__init__.py:7\u001b[0m\n\u001b[1;32m      5\u001b[0m \u001b[38;5;28;01mimport\u001b[39;00m \u001b[38;5;21;01mmath\u001b[39;00m\n\u001b[1;32m      6\u001b[0m \u001b[38;5;28;01mfrom\u001b[39;00m \u001b[38;5;21;01munum\u001b[39;00m\u001b[38;5;21;01m.\u001b[39;00m\u001b[38;5;21;01munits\u001b[39;00m \u001b[38;5;28;01mimport\u001b[39;00m \u001b[38;5;241m*\u001b[39m\n\u001b[0;32m----> 7\u001b[0m \u001b[38;5;28;01mimport\u001b[39;00m \u001b[38;5;21;01mnose\u001b[39;00m\n\u001b[1;32m      8\u001b[0m \u001b[38;5;28;01mfrom\u001b[39;00m \u001b[38;5;21;01mnose\u001b[39;00m\u001b[38;5;21;01m.\u001b[39;00m\u001b[38;5;21;01mtools\u001b[39;00m \u001b[38;5;28;01mimport\u001b[39;00m \u001b[38;5;241m*\u001b[39m\n\u001b[1;32m     10\u001b[0m \u001b[38;5;66;03m# Test core arithmetic\u001b[39;00m\n",
      "\u001b[0;31mModuleNotFoundError\u001b[0m: No module named 'nose'"
     ]
    }
   ],
   "source": [
    "# from tests.ExplicitCell.cc3d_simservice.CC3DProcess import SERVICE_NAME as cc3d_service_name  # DO NOT REMOVE\n",
    "# from tests.ExplicitCell.tf_simservice.TissueForgeProcess import SERVICE_NAME as tf_service_name  # DO NOT REMOVE\n",
    "from tests.ExplicitCell.explicit_cell import get_one_cell_two_direction_config"
   ]
  },
  {
   "cell_type": "code",
   "execution_count": 6,
   "id": "ce94c64c9cd1c732",
   "metadata": {
    "ExecuteTime": {
     "end_time": "2024-08-11T21:11:32.525459Z",
     "start_time": "2024-08-11T21:11:32.515392Z"
    }
   },
   "outputs": [
    {
     "ename": "NameError",
     "evalue": "name 'get_one_cell_two_direction_config' is not defined",
     "output_type": "error",
     "traceback": [
      "\u001b[0;31m---------------------------------------------------------------------------\u001b[0m",
      "\u001b[0;31mNameError\u001b[0m                                 Traceback (most recent call last)",
      "Cell \u001b[0;32mIn[6], line 1\u001b[0m\n\u001b[0;32m----> 1\u001b[0m config \u001b[38;5;241m=\u001b[39m \u001b[43mget_one_cell_two_direction_config\u001b[49m()\n",
      "\u001b[0;31mNameError\u001b[0m: name 'get_one_cell_two_direction_config' is not defined"
     ]
    }
   ],
   "source": [
    "config = get_one_cell_two_direction_config()"
   ]
  },
  {
   "cell_type": "code",
   "execution_count": null,
   "id": "bb3c9cac1fafd0d",
   "metadata": {},
   "outputs": [],
   "source": []
  }
 ],
 "metadata": {
  "kernelspec": {
   "display_name": "Python 3 (ipykernel)",
   "language": "python",
   "name": "python3"
  },
  "language_info": {
   "codemirror_mode": {
    "name": "ipython",
    "version": 3
   },
   "file_extension": ".py",
   "mimetype": "text/x-python",
   "name": "python",
   "nbconvert_exporter": "python",
   "pygments_lexer": "ipython3",
   "version": "3.11.3"
  }
 },
 "nbformat": 4,
 "nbformat_minor": 5
}
