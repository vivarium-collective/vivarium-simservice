{
 "cells": [
  {
   "cell_type": "code",
   "id": "initial_id",
   "metadata": {
    "collapsed": true,
    "ExecuteTime": {
     "end_time": "2024-08-11T21:11:31.972618Z",
     "start_time": "2024-08-11T21:11:31.937344Z"
    }
   },
   "source": [
    "# from tests.ExplicitCell.cc3d_simservice.CC3DProcess import SERVICE_NAME as cc3d_service_name  # DO NOT REMOVE\n",
    "# from tests.ExplicitCell.tf_simservice.TissueForgeProcess import SERVICE_NAME as tf_service_name  # DO NOT REMOVE\n",
    "from tests.ExplicitCell.explicit_cell import get_one_cell_two_direction_config"
   ],
   "outputs": [
    {
     "ename": "ModuleNotFoundError",
     "evalue": "No module named 'cc3d_simservice'",
     "output_type": "error",
     "traceback": [
      "\u001B[0;31m---------------------------------------------------------------------------\u001B[0m",
      "\u001B[0;31mModuleNotFoundError\u001B[0m                       Traceback (most recent call last)",
      "Cell \u001B[0;32mIn[5], line 3\u001B[0m\n\u001B[1;32m      1\u001B[0m \u001B[38;5;66;03m# from tests.ExplicitCell.cc3d_simservice.CC3DProcess import SERVICE_NAME as cc3d_service_name  # DO NOT REMOVE\u001B[39;00m\n\u001B[1;32m      2\u001B[0m \u001B[38;5;66;03m# from tests.ExplicitCell.tf_simservice.TissueForgeProcess import SERVICE_NAME as tf_service_name  # DO NOT REMOVE\u001B[39;00m\n\u001B[0;32m----> 3\u001B[0m \u001B[38;5;28;01mfrom\u001B[39;00m \u001B[38;5;21;01mtests\u001B[39;00m\u001B[38;5;21;01m.\u001B[39;00m\u001B[38;5;21;01mExplicitCell\u001B[39;00m\u001B[38;5;21;01m.\u001B[39;00m\u001B[38;5;21;01mexplicit_cell\u001B[39;00m \u001B[38;5;28;01mimport\u001B[39;00m get_one_cell_two_direction_config\n",
      "File \u001B[0;32m~/code/vivarium-simservice/tests/ExplicitCell/explicit_cell.py:39\u001B[0m\n\u001B[1;32m     36\u001B[0m \u001B[38;5;28;01mfrom\u001B[39;00m \u001B[38;5;21;01mtyping\u001B[39;00m \u001B[38;5;28;01mimport\u001B[39;00m Any, Dict, List, Optional, Tuple, Union\n\u001B[1;32m     38\u001B[0m \u001B[38;5;66;03m# these imports are done to import to registry\u001B[39;00m\n\u001B[0;32m---> 39\u001B[0m \u001B[38;5;28;01mfrom\u001B[39;00m \u001B[38;5;21;01mcc3d_simservice\u001B[39;00m\u001B[38;5;21;01m.\u001B[39;00m\u001B[38;5;21;01mCC3DProcess\u001B[39;00m \u001B[38;5;28;01mimport\u001B[39;00m SERVICE_NAME \u001B[38;5;28;01mas\u001B[39;00m cc3d_service_name  \u001B[38;5;66;03m# DO NOT REMOVE\u001B[39;00m\n\u001B[1;32m     40\u001B[0m \u001B[38;5;28;01mfrom\u001B[39;00m \u001B[38;5;21;01mtf_simservice\u001B[39;00m\u001B[38;5;21;01m.\u001B[39;00m\u001B[38;5;21;01mTissueForgeProcess\u001B[39;00m \u001B[38;5;28;01mimport\u001B[39;00m SERVICE_NAME \u001B[38;5;28;01mas\u001B[39;00m tf_service_name  \u001B[38;5;66;03m# DO NOT REMOVE\u001B[39;00m\n\u001B[1;32m     41\u001B[0m \u001B[38;5;28;01mfrom\u001B[39;00m \u001B[38;5;21;01mtests\u001B[39;00m\u001B[38;5;21;01m.\u001B[39;00m\u001B[38;5;21;01mExplicitCell\u001B[39;00m \u001B[38;5;28;01mimport\u001B[39;00m register_types\n",
      "\u001B[0;31mModuleNotFoundError\u001B[0m: No module named 'cc3d_simservice'"
     ]
    }
   ],
   "execution_count": 5
  },
  {
   "metadata": {
    "ExecuteTime": {
     "end_time": "2024-08-11T21:11:32.525459Z",
     "start_time": "2024-08-11T21:11:32.515392Z"
    }
   },
   "cell_type": "code",
   "source": "config = get_one_cell_two_direction_config()",
   "id": "ce94c64c9cd1c732",
   "outputs": [
    {
     "ename": "NameError",
     "evalue": "name 'get_one_cell_two_direction_config' is not defined",
     "output_type": "error",
     "traceback": [
      "\u001B[0;31m---------------------------------------------------------------------------\u001B[0m",
      "\u001B[0;31mNameError\u001B[0m                                 Traceback (most recent call last)",
      "Cell \u001B[0;32mIn[6], line 1\u001B[0m\n\u001B[0;32m----> 1\u001B[0m config \u001B[38;5;241m=\u001B[39m \u001B[43mget_one_cell_two_direction_config\u001B[49m()\n",
      "\u001B[0;31mNameError\u001B[0m: name 'get_one_cell_two_direction_config' is not defined"
     ]
    }
   ],
   "execution_count": 6
  },
  {
   "metadata": {},
   "cell_type": "code",
   "outputs": [],
   "execution_count": null,
   "source": "",
   "id": "bb3c9cac1fafd0d"
  }
 ],
 "metadata": {
  "kernelspec": {
   "display_name": "Python 3",
   "language": "python",
   "name": "python3"
  },
  "language_info": {
   "codemirror_mode": {
    "name": "ipython",
    "version": 2
   },
   "file_extension": ".py",
   "mimetype": "text/x-python",
   "name": "python",
   "nbconvert_exporter": "python",
   "pygments_lexer": "ipython2",
   "version": "2.7.6"
  }
 },
 "nbformat": 4,
 "nbformat_minor": 5
}
